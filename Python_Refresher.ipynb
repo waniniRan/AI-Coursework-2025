{
  "nbformat": 4,
  "nbformat_minor": 0,
  "metadata": {
    "colab": {
      "provenance": [],
      "authorship_tag": "ABX9TyN6YdctWDcvfOl3SPH4mSZK",
      "include_colab_link": true
    },
    "kernelspec": {
      "name": "python3",
      "display_name": "Python 3"
    },
    "language_info": {
      "name": "python"
    }
  },
  "cells": [
    {
      "cell_type": "markdown",
      "metadata": {
        "id": "view-in-github",
        "colab_type": "text"
      },
      "source": [
        "<a href=\"https://colab.research.google.com/github/waniniRan/AI-Coursework-2025/blob/main/Python_Refresher.ipynb\" target=\"_parent\"><img src=\"https://colab.research.google.com/assets/colab-badge.svg\" alt=\"Open In Colab\"/></a>"
      ]
    },
    {
      "cell_type": "markdown",
      "source": [
        " 1. User inputs a number of day program converts Days to seconds"
      ],
      "metadata": {
        "id": "mGYxeplwmTws"
      }
    },
    {
      "cell_type": "code",
      "execution_count": 1,
      "metadata": {
        "id": "MUL1aRhtmMff",
        "outputId": "5e4c80e0-74ce-49ae-f689-cb0cdb09136f",
        "colab": {
          "base_uri": "https://localhost:8080/"
        }
      },
      "outputs": [
        {
          "output_type": "stream",
          "name": "stdout",
          "text": [
            "Enter the number of days: 6\n",
            "There are 518400 seconds in 6 days.\n"
          ]
        }
      ],
      "source": [
        "def days_to_seconds(): # defining function\n",
        "    #A try catch error function to ensure that only a positive by number of days is entered and negatives are discarded\n",
        "    try:\n",
        "        # Ask the user for the number of days.\n",
        "        days = input(\"Enter the number of days: \")\n",
        "        days=int(days) #converts to integer\n",
        "\n",
        "        # Check if the number is non-negative.\n",
        "        if days < 0:\n",
        "            print(\"Please enter a non-negative number of days.\")\n",
        "        else:\n",
        "            # Calculate the number of seconds.\n",
        "            seconds_per_day = 24 * 60 * 60\n",
        "            total_seconds = days * seconds_per_day\n",
        "            print(f\"There are {total_seconds} seconds in {days} days.\")\n",
        "    except ValueError:\n",
        "        print(\"Invalid input. Please enter a whole number.\")\n",
        "days_to_seconds()"
      ]
    },
    {
      "cell_type": "markdown",
      "source": [
        "2. Volume of a sphere"
      ],
      "metadata": {
        "id": "QzBNG7i7s6TP"
      }
    },
    {
      "cell_type": "code",
      "source": [
        "import math #accesses the math functions and constants\n",
        "\n",
        "def calculate_sphere_volume(): #defining the function/method to carry out the input\n",
        "\n",
        "    try:\n",
        "        # Ask the user for the radius.\n",
        "        radius = float(input(\"Enter the radius of the sphere: \"))\n",
        "\n",
        "        # Check if the radius is non-negative.\n",
        "        if radius < 0:\n",
        "            print(\"Please enter a non-negative radius.\")\n",
        "        else:\n",
        "            # Calculate the volume using the formula (4/3) * pi * r^3\n",
        "            # The ** operator is used for exponentiation as requested.\n",
        "            volume = (4/3) * math.pi * (radius ** 3)\n",
        "\n",
        "            print(f\"The volume of the sphere with radius {radius} is {volume:.2f}\")\n",
        "    except ValueError:\n",
        "        print(\"Invalid input. Please enter a valid number for the radius.\")\n",
        "calculate_sphere_volume()"
      ],
      "metadata": {
        "id": "agZ09ZDGs9ZE",
        "outputId": "ff113ff9-8100-486a-e5f2-4b41529e17f0",
        "colab": {
          "base_uri": "https://localhost:8080/"
        }
      },
      "execution_count": 2,
      "outputs": [
        {
          "output_type": "stream",
          "name": "stdout",
          "text": [
            "Enter the radius of the sphere: 10\n",
            "The volume of the sphere with radius 10.0 is 4188.79\n"
          ]
        }
      ]
    },
    {
      "cell_type": "markdown",
      "source": [
        "3. Square Perimeter and Area"
      ],
      "metadata": {
        "id": "DRACM9stvkUL"
      }
    },
    {
      "cell_type": "code",
      "source": [
        "def get_side_length(): #function to initiate the user's input\n",
        "\n",
        "  #prompts for the user to input the length\n",
        "    try:\n",
        "        side = float(input(\"Enter the side length of the square: \"))\n",
        "        if side < 0:\n",
        "            print(\"Side length cannot be negative.\")\n",
        "            return None\n",
        "        return side\n",
        "    except ValueError:\n",
        "        print(\"Invalid input. Please enter a number.\")\n",
        "        return None\n",
        "\n",
        "def calculate_area(side):\n",
        "    #Calculates the area and returns a float value from the users values\n",
        "    return side * side\n",
        "\n",
        "# calculates the perimeter of the square\n",
        "def calculate_perimeter(side):\n",
        "    return 4 * side\n",
        "\n",
        "def main():#main function to run the program\n",
        "    side_length = get_side_length()\n",
        "    if side_length is not None:\n",
        "        area = calculate_area(side_length)\n",
        "        perimeter = calculate_perimeter(side_length)\n",
        "        print(f\"The area of the square is: {area:.2f}\") #.2f is a format specifier to display exactly 2 decimal places\n",
        "        print(f\"The perimeter of the square is: {perimeter:.2f}\")\n",
        "main()"
      ],
      "metadata": {
        "id": "Qj-ESzVZvq7d",
        "outputId": "948d9440-625f-469f-a8d2-d97a322fdf90",
        "colab": {
          "base_uri": "https://localhost:8080/"
        }
      },
      "execution_count": 3,
      "outputs": [
        {
          "output_type": "stream",
          "name": "stdout",
          "text": [
            "Enter the side length of the square: 8\n",
            "The area of the square is: 64.00\n",
            "The perimeter of the square is: 32.00\n"
          ]
        }
      ]
    },
    {
      "cell_type": "markdown",
      "source": [
        "4. Character Case Checker"
      ],
      "metadata": {
        "id": "r9PP6fbcvwI-"
      }
    },
    {
      "cell_type": "code",
      "source": [
        "def check_case(char):#Checks if a character is uppercase, lowercase, or neither.\n",
        "    if len(char) != 1: #len=length\n",
        "        print(\"Please enter only a single character.\")\n",
        "    elif char.isalpha():\n",
        "        if char.isupper():\n",
        "            print(f\"The character '{char}' is uppercase.\")\n",
        "        else: # char.islower()\n",
        "            print(f\"The character '{char}' is lowercase.\")\n",
        "    else:\n",
        "        print(f\"The character '{char}' is not a letter.\")\n",
        "\n",
        "def main():#get user input and call the check_case function.\n",
        "    user_input = input(\"Enter a single character: \")\n",
        "    check_case(user_input)\n",
        "main()"
      ],
      "metadata": {
        "id": "-I3ICfWTv3t9",
        "outputId": "528374f6-8ce9-4c68-ec38-5d86a736a934",
        "colab": {
          "base_uri": "https://localhost:8080/"
        }
      },
      "execution_count": 5,
      "outputs": [
        {
          "output_type": "stream",
          "name": "stdout",
          "text": [
            "Enter a single character: T\n",
            "The character 'T' is uppercase.\n"
          ]
        }
      ]
    },
    {
      "cell_type": "markdown",
      "source": [
        "5. Pseudocode"
      ],
      "metadata": {
        "id": "EOGPGLU8v9jp"
      }
    },
    {
      "cell_type": "code",
      "source": [
        "def convert_pseudocode():\n",
        "    # Initialize variables as per the pseudocode.\n",
        "    x = 0\n",
        "    y = 20\n",
        "\n",
        "    # The REPEAT...UNTIL loop is equivalent to a while loop in Python.\n",
        "    # The loop continues as long as the condition is FALSE (y is LESS THAN 6)\n",
        "    # So, the loop runs WHILE y is GREATER THAN OR EQUAL TO 6.\n",
        "    while y >= 6:\n",
        "        # SUBTRACT 4 FROM y\n",
        "        y -= 4\n",
        "        # ADD 2/y TO x\n",
        "        x += 2/y\n",
        "\n",
        "    # DISPLAY x\n",
        "    print(f\"The final value of x is: {x}\")\n",
        "convert_pseudocode()"
      ],
      "metadata": {
        "id": "lL2D4SsXwJUH",
        "outputId": "b97b0f16-37e3-4a6e-b475-29e6df6527e0",
        "colab": {
          "base_uri": "https://localhost:8080/"
        }
      },
      "execution_count": 6,
      "outputs": [
        {
          "output_type": "stream",
          "name": "stdout",
          "text": [
            "The final value of x is: 1.0416666666666665\n"
          ]
        }
      ]
    },
    {
      "cell_type": "markdown",
      "source": [
        "6. Calculate the average"
      ],
      "metadata": {
        "id": "LthXy9vwwPjE"
      }
    },
    {
      "cell_type": "code",
      "source": [
        "def calculate_average():\n",
        "\n",
        "    #Uses a loop to continually prompt the user for 5 values,then calculates and displays the average.\n",
        "\n",
        "    values = [] #an array store for the numbers\n",
        "\n",
        "    # Use a loop to get 5 values from the user.\n",
        "    for i in range(5):\n",
        "        try:\n",
        "            value = float(input(f\"Enter value #{i + 1}: \"))\n",
        "            values.append(value)\n",
        "        except ValueError:\n",
        "            # Handle cases where the input is not a number.\n",
        "            print(\"Invalid input. Please enter a number.\")\n",
        "            # Decrement i to ask for the same value again.\n",
        "            i -= 1\n",
        "\n",
        "    # Check if the list has 5 values before calculating.\n",
        "    if len(values) == 5:\n",
        "        # Calculate the sum of the values.\n",
        "        total = sum(values)\n",
        "        # Calculate the average.\n",
        "        average = total / len(values)\n",
        "        print(f\"\\nThe values entered are: {values}\")\n",
        "        print(f\"The average of the values is: {average:.2f}\")\n",
        "calculate_average()"
      ],
      "metadata": {
        "id": "LXO7ZJ6WwWLo",
        "outputId": "c465b515-3d51-4749-c0b4-6c21e00351c6",
        "colab": {
          "base_uri": "https://localhost:8080/"
        }
      },
      "execution_count": 7,
      "outputs": [
        {
          "output_type": "stream",
          "name": "stdout",
          "text": [
            "Enter value #1: 6\n",
            "Enter value #2: 8\n",
            "Enter value #3: 5\n",
            "Enter value #4: 2\n",
            "Enter value #5: 7\n",
            "\n",
            "The values entered are: [6.0, 8.0, 5.0, 2.0, 7.0]\n",
            "The average of the values is: 5.60\n"
          ]
        }
      ]
    }
  ]
}